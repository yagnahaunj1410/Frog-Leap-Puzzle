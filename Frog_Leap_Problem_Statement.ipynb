{
  "nbformat": 4,
  "nbformat_minor": 0,
  "metadata": {
    "colab": {
      "provenance": []
    },
    "kernelspec": {
      "name": "python3",
      "display_name": "Python 3"
    },
    "language_info": {
      "name": "python"
    }
  },
  "cells": [
    {
      "cell_type": "markdown",
      "source": [
        "# Problem statement\n",
        "\n",
        "Create famous 'Frog leap' puzzle game. Try completing the game before starting to get an idea about its working.\n",
        "[Demonstration](https://www.neok12.com/games/leap-froggies/leap-froggies.htm).\n",
        "\n",
        "\n",
        "### Rules ###\n",
        "1. The left set of frogs can only move right, the right set of frogs can only move left.\n",
        "2. Frogs can move forward one space, or move two spaces by jumping over another frog from opposite side.\n",
        "3. The puzzle is solved when the two sets of frogs have switched positions.\n",
        "\n",
        "\n",
        "## Steps to solve the problem:\n",
        "### Step1:-\n",
        "- Display green and brown frogs on the left and right sides initially.\n",
        "\n",
        "Initial Display :-  \n",
        "```\n",
        "[ 0 ,  1 ,  2 ,  3 ,  4 ,  5 ,  6 ]\n",
        "['G', 'G', 'G', '-', 'B', 'B', 'B']\n",
        "```\n",
        "<br>\n",
        "Here 'G' represents Green frogs on the left side and 'B' represents brown frogs on the right side. The '-' defines the position of empty leaf.\n",
        "(You can change display according to your imagination or convinience)\n",
        "\n",
        "### Step2:-\n",
        "Accept positions of the frog that you want to move.<br>\n",
        "Example: If we enter position 2 then the game will look like this:-\n",
        "```\n",
        "[ 0 ,  1 ,  2 ,  3 ,  4 ,  5 ,  6 ]\n",
        "['G', 'G', '-', 'G', 'B', 'B', 'B']\n",
        "```\n",
        "\n",
        "### Step3:- ###\n",
        "Define Invalid moves and add conditional 'if' statements accordingly\n",
        "#### Rules\n",
        "1. Entered position should be between 0 to 6. Or a character 'q' to quit the game.\n",
        "2. Entered position cannot be the position of empty leaf.\n",
        "3. If the selected frog position cannot perform the contraints given in rule 2 then the move is invalid.\n",
        "\n",
        "### Step4:-\n",
        "Make the appropriate move by changing the game display."
      ],
      "metadata": {
        "id": "fxZte1ZuP3yr"
      }
    },
    {
      "cell_type": "markdown",
      "source": [
        "## Step 1\n",
        "First create a list `positions` which contains the characters 'G','B' and '-' in the same sequence as given in the initial display state."
      ],
      "metadata": {
        "id": "-viYJbAFQXcJ"
      }
    },
    {
      "cell_type": "code",
      "execution_count": 10,
      "metadata": {
        "id": "fSvLBrjwP0sr"
      },
      "outputs": [],
      "source": [
        "positions = ['G', 'G', 'G', '-', 'B', 'B', 'B']"
      ]
    },
    {
      "cell_type": "markdown",
      "source": [
        "Now print this string ```[ 0 ,  1 ,  2 ,  3 ,  4 ,  5 ,  6 ]``` and after that print the list `positions`"
      ],
      "metadata": {
        "id": "unr1AJLSQj_4"
      }
    },
    {
      "cell_type": "code",
      "source": [
        "# Print the indices\n",
        "print(\"[ 0 , 1 , 2 , 3 , 4 , 5 , 6 ]\")\n",
        "\n",
        "# Print the positions list\n",
        "positions = ['G', 'G', 'G', '-', 'B', 'B', 'B']\n",
        "print(positions)\n"
      ],
      "metadata": {
        "id": "qqKLcfEmQgiZ",
        "colab": {
          "base_uri": "https://localhost:8080/"
        },
        "outputId": "e6910ea0-3c84-415c-8935-355144155d55"
      },
      "execution_count": 11,
      "outputs": [
        {
          "output_type": "stream",
          "name": "stdout",
          "text": [
            "[ 0 , 1 , 2 , 3 , 4 , 5 , 6 ]\n",
            "['G', 'G', 'G', '-', 'B', 'B', 'B']\n"
          ]
        }
      ]
    },
    {
      "cell_type": "markdown",
      "source": [
        "Take position input from user and write a message as `\"Press q to quit else \\nEnter position of piece:\"`."
      ],
      "metadata": {
        "id": "DuEVsgtjQqXV"
      }
    },
    {
      "cell_type": "code",
      "source": [
        "print(\"Press 'q' to quit, else\")\n",
        "position = input(\"Enter position of piece: \")"
      ],
      "metadata": {
        "id": "nPz65EKXQnDR",
        "colab": {
          "base_uri": "https://localhost:8080/"
        },
        "outputId": "d6e15aa3-e90f-4561-aa00-efc71efc0974"
      },
      "execution_count": 17,
      "outputs": [
        {
          "name": "stdout",
          "output_type": "stream",
          "text": [
            "Press 'q' to quit, else\n",
            "Enter position of piece: 3\n"
          ]
        }
      ]
    },
    {
      "cell_type": "markdown",
      "source": [
        "Now the taken input is in string format. So first check if the input is `'q'` character. If input is `'q'` then the person is quiting the game so print `'You Lose'`."
      ],
      "metadata": {
        "id": "ejy_x_eTRJmT"
      }
    },
    {
      "cell_type": "code",
      "source": [
        "if position == 'q':\n",
        "    print(\"You Lose\")"
      ],
      "metadata": {
        "id": "1OrsC7P9QxO6"
      },
      "execution_count": 18,
      "outputs": []
    },
    {
      "cell_type": "markdown",
      "source": [
        "Next if input character is not `'q'` then it has to be some integer. so convert input to integer format."
      ],
      "metadata": {
        "id": "yZJeDTGlRSMe"
      }
    },
    {
      "cell_type": "code",
      "source": [
        "### your code here\n",
        "position = int(input())"
      ],
      "metadata": {
        "id": "PWZj_Js6RP2G",
        "colab": {
          "base_uri": "https://localhost:8080/"
        },
        "outputId": "684c4e44-3d2f-4018-cf42-3bb073d8e37a"
      },
      "execution_count": 22,
      "outputs": [
        {
          "name": "stdout",
          "output_type": "stream",
          "text": [
            "5\n"
          ]
        }
      ]
    },
    {
      "cell_type": "markdown",
      "source": [
        "## Step 2\n",
        "Now we have to check validity of the selected positions or move.<br>\n",
        "If the entered number isn't between 0 and 6, then print 'Invalid move'."
      ],
      "metadata": {
        "id": "SyCzN-cYRXZa"
      }
    },
    {
      "cell_type": "code",
      "source": [
        "if 0 <= position <= 6:\n",
        "  print(\"Position entered:\", position)\n",
        "elif position != 'q':\n",
        "  print(\"Invalid move. Position must be between 0 and 6.\")"
      ],
      "metadata": {
        "id": "8_edLqe2RU8S",
        "outputId": "84fbfe54-7007-41de-cf45-2835b08f1205",
        "colab": {
          "base_uri": "https://localhost:8080/"
        }
      },
      "execution_count": 28,
      "outputs": [
        {
          "output_type": "stream",
          "name": "stdout",
          "text": [
            "Position entered: 5\n"
          ]
        }
      ]
    },
    {
      "cell_type": "markdown",
      "source": [
        "A frog should be present on the selected position to make a move. If leaf is selected then it doesn't make sense. Therefore, if entered postition is same as the postition of empty leaf then the move is invalid and print `Invalid Move`"
      ],
      "metadata": {
        "id": "Va03g0l5Rlkx"
      }
    },
    {
      "cell_type": "code",
      "source": [
        "# Step 6b: Check if the selected position is empty\n",
        "if positions[position] == '-':\n",
        "    print(\"Invalid move. The selected position is empty.\")\n",
        "else:\n",
        "# Step 6c: Print the valid position entered\n",
        "    print(\"Position entered:\", position)"
      ],
      "metadata": {
        "id": "uM2-D1xGRiH4",
        "colab": {
          "base_uri": "https://localhost:8080/"
        },
        "outputId": "ac64581b-547d-4abb-9e05-2db9c4399f5b"
      },
      "execution_count": 30,
      "outputs": [
        {
          "output_type": "stream",
          "name": "stdout",
          "text": [
            "Position entered: 5\n"
          ]
        }
      ]
    },
    {
      "cell_type": "markdown",
      "source": [
        "Initialize a variable named `pos2` at value 0, to store the index of empty leaf, so that we can use it later."
      ],
      "metadata": {
        "id": "cp5q2ahQTnwI"
      }
    },
    {
      "cell_type": "code",
      "source": [
        "### your code here\n",
        "position2 = 0"
      ],
      "metadata": {
        "id": "1SkBYDnaTpiV",
        "outputId": "43df38d9-d9d8-4008-cc36-449842520bae",
        "colab": {
          "base_uri": "https://localhost:8080/",
          "height": 111
        }
      },
      "execution_count": 27,
      "outputs": [
        {
          "output_type": "error",
          "ename": "IndentationError",
          "evalue": "unexpected indent (<ipython-input-27-9f3ca9977a49>, line 2)",
          "traceback": [
            "\u001b[0;36m  File \u001b[0;32m\"<ipython-input-27-9f3ca9977a49>\"\u001b[0;36m, line \u001b[0;32m2\u001b[0m\n\u001b[0;31m    print(\"Position entered:\", position)\u001b[0m\n\u001b[0m    ^\u001b[0m\n\u001b[0;31mIndentationError\u001b[0m\u001b[0;31m:\u001b[0m unexpected indent\n"
          ]
        }
      ]
    },
    {
      "cell_type": "markdown",
      "source": [
        "```   \n",
        "    Check if the selected frog is 'G':\n",
        "  \n",
        "        (Inside if when it's 'G'. As 'G' is selected frog can move to right only.)\n",
        "        \n",
        "        ❗condition 1\n",
        "\n",
        "        If **selected_position + 1** is less than or equal to 6 and **curent_position + 1** contains '-'\n",
        "        then it's a valid move and store that postion in `pos2`.\n",
        "        \n",
        "        ❗condition2\n",
        "\n",
        "        Else if **selected_position + 2** is less than or equal to 6 and if **current_position + 2**\n",
        "        contains '-' and if **selected_position + 1** contains 'B' then it's a valid move  and store that postion in `pos2`.\n",
        "        \n",
        "        ❗condition3:\n",
        "\n",
        "        Else remainig all are invalid, so print `Invalid Move`\n",
        "      \n",
        "```"
      ],
      "metadata": {
        "id": "V9UFD623R3Oa"
      }
    },
    {
      "cell_type": "code",
      "source": [
        "# Step 7: Check if the selected position is 'G' and can move right (Condition 1)\n",
        "if positions[position] == 'G':\n",
        "    if position + 1 <= 6 and positions[position + 1] == '-':\n",
        "        position2 = position + 1\n",
        "        print(\"Valid move to position:\", position2)\n",
        "    elif position + 2 <= 6 and positions[position + 2] == '-' and positions[position + 1] == 'B':\n",
        "        position2 = position + 2\n",
        "        print(\"Valid move to position:\", position2)"
      ],
      "metadata": {
        "id": "IDHxpibURriq"
      },
      "execution_count": 31,
      "outputs": []
    },
    {
      "cell_type": "markdown",
      "source": [
        "```\n",
        "    Check if the selected frog is 'B':\n",
        "    \n",
        "        (Inside if when it's 'B'. As 'B' is selected frog can move to left only.)\n",
        "        \n",
        "        ❗condition1:\n",
        "\n",
        "        If **selected_position - 1** is more than or equal to 0 and **curent_position - 1** contains '-' then\n",
        "        it's a valid move and and store that postion in `pos2`.\n",
        "        \n",
        "        ❗condition2:\n",
        "\n",
        "        Else if **selected_position - 2** is more than or equal to 0 and if **current_position - 2** contains '-'\n",
        "        and if **selected_position - 1** contains 'G' then it's a valid move and and store that postion in `pos2`.\n",
        "\n",
        "        ❗condition3:\n",
        "        \n",
        "        Else remainig all are invalid,, so print `Invalid Move`.\n",
        "        \n",
        "```"
      ],
      "metadata": {
        "id": "DyQX5nUsTZPF"
      }
    },
    {
      "cell_type": "code",
      "source": [
        "# Step 7: Check if the selected position is 'B' and can move left (Condition 1)\n",
        "if positions[position] == 'B':\n",
        "    if position - 1 >= 0 and positions[position - 1] == '-':\n",
        "        pos2 = position - 1\n",
        "        print(\"Valid move to position:\", pos2)\n",
        "    elif position - 2 >= 0 and positions[position - 2] == '-' and positions[position - 1] == 'G':\n",
        "        pos2 = position - 2\n",
        "        print(\"Valid move to position:\", pos2)"
      ],
      "metadata": {
        "id": "cQ2G3ZO_TWU5"
      },
      "execution_count": 32,
      "outputs": []
    },
    {
      "cell_type": "markdown",
      "source": [
        "Swap the element at selected positions and calculated position2 in the list.<br> So basically we are moving the frog to next valid position by swapping elelments of array."
      ],
      "metadata": {
        "id": "Vads2oztUd4g"
      }
    },
    {
      "cell_type": "code",
      "source": [
        "# Step 10: Perform the swap operation if move is valid\n",
        "if positions[position] == 'G' and (positions[position + 1] == '-' or (positions[position + 1] == 'B' and positions[position + 2] == '-')):\n",
        "    positions[position], positions[position2] = positions[position2], positions[position]\n",
        "    print(\"Updated positions:\", positions)\n",
        "else:\n",
        "    print(\"Invalid Move\")"
      ],
      "metadata": {
        "id": "jXOGtww7UeYQ"
      },
      "execution_count": 33,
      "outputs": []
    },
    {
      "cell_type": "markdown",
      "source": [
        "Now print the display of the game again to see the change.<br>\n",
        "If we enter position 2 then the output will look like this:-\n",
        "```\n",
        "[ 0 ,  1 ,  2 ,  3 ,  4 ,  5 ,  6 ]\n",
        "['G', 'G', '-', 'G', 'B', 'B', 'B']\n",
        "```"
      ],
      "metadata": {
        "id": "8qF4Q2HsUlZ4"
      }
    },
    {
      "cell_type": "code",
      "source": [
        "# Print the updated display of the game\n",
        "print(\"Current Game Display:\")\n",
        "for frog in positions:\n",
        "    print(frog, end=' ')\n",
        "print()"
      ],
      "metadata": {
        "id": "0S3oNzG3UifK",
        "outputId": "bb2a402e-5d8e-4a97-cde5-045f368a3d07",
        "colab": {
          "base_uri": "https://localhost:8080/"
        }
      },
      "execution_count": 34,
      "outputs": [
        {
          "output_type": "stream",
          "name": "stdout",
          "text": [
            "Current Game Display:\n",
            "G G G - B B B \n"
          ]
        }
      ]
    },
    {
      "cell_type": "markdown",
      "source": [
        "Check for winning condition by comparing the elements of list. If player has won the game print `'You Win'`"
      ],
      "metadata": {
        "id": "EILVGu48UsH-"
      }
    },
    {
      "cell_type": "code",
      "source": [
        " if positions == ['B', 'B', 'B', '-', 'G', 'G', 'G']:\n",
        "        print(\"You Win\")\n",
        "else:\n",
        "    print(\"Invalid Move\")"
      ],
      "metadata": {
        "id": "GYkZdiA6Uote",
        "outputId": "e9d3ab2d-b601-4ee2-8315-0955d087cd31",
        "colab": {
          "base_uri": "https://localhost:8080/"
        }
      },
      "execution_count": 35,
      "outputs": [
        {
          "output_type": "stream",
          "name": "stdout",
          "text": [
            "Invalid Move\n"
          ]
        }
      ]
    },
    {
      "cell_type": "markdown",
      "source": [
        "Now the game should keep running until the player quits, so place all conditional statements inside an infinite loop.<br>\n",
        "\n",
        "1. We have to `'break'` the loop if the player presses `'q'` and quits.\n",
        "\n",
        "2. If the move made by player is `'Invalid Move'` then we have to `'continue'` without executing remaining part of the selected iteration.\n",
        "\n",
        "3. If player wins the game we have to `break` the loop.\n",
        "\n",
        "\n",
        "```\n",
        "Infinite loop:\n",
        "    (inside loop) while True:\n",
        "    1.Take input\n",
        "    2.Check all valid and invalid conditions of `pos`.\n",
        "    3.Make the appropriate move by calculating `pos2`.\n",
        "    4.Display game\n",
        "    4.Check winning condition\n",
        "```"
      ],
      "metadata": {
        "id": "a2a0HHjiUyQ8"
      }
    },
    {
      "cell_type": "markdown",
      "source": [
        "END\n"
      ],
      "metadata": {
        "id": "9Bj7ZyE-WN0v"
      }
    },
    {
      "cell_type": "code",
      "source": [
        "def print_game_board(indices, positions):\n",
        "    print(f\"\\n{indices}\")\n",
        "    print(positions)\n",
        "\n",
        "def check_win(positions):\n",
        "    return positions == ['B', 'B', 'B', '-', 'G', 'G', 'G']\n",
        "\n",
        "# Initial positions of frogs and toads\n",
        "positions = ['G', 'G', 'G', '-', 'B', 'B', 'B']\n",
        "indices = [0, 1, 2, 3, 4, 5, 6]\n",
        "\n",
        "print(\"Welcome to Frog Leap Puzzle!\")\n",
        "print(\"To win, move all 'G' frogs to the right and all 'B' toads to the left.\")\n",
        "\n",
        "while True:\n",
        "    print_game_board(indices, positions)\n",
        "\n",
        "    print(\"\\nPress 'q' to quit, else Enter position of piece:\")\n",
        "    user_input = input().strip()\n",
        "\n",
        "    if user_input == 'q':\n",
        "        print(\"You Lose!\")\n",
        "        break\n",
        "\n",
        "    selected_position = int(user_input) if user_input.isdigit() else -1\n",
        "\n",
        "    if selected_position < 0 or selected_position > 6:\n",
        "        print(\"Invalid move. Position must be between 0 and 6.\")\n",
        "        continue\n",
        "\n",
        "    if positions[selected_position] == '-':\n",
        "        print(\"Invalid move. Cannot move an empty leaf.\")\n",
        "        continue\n",
        "\n",
        "    pos2 = 0\n",
        "    if positions[selected_position] == 'G':\n",
        "        if selected_position + 1 <= 6 and positions[selected_position + 1] == '-':\n",
        "            pos2 = selected_position + 1\n",
        "        elif selected_position + 2 <= 6 and positions[selected_position + 2] == '-' and positions[selected_position + 1] == 'B':\n",
        "            pos2 = selected_position + 2\n",
        "        else:\n",
        "            print(\"Invalid move.\")\n",
        "            continue\n",
        "    elif positions[selected_position] == 'B':\n",
        "        if selected_position - 1 >= 0 and positions[selected_position - 1] == '-':\n",
        "            pos2 = selected_position - 1\n",
        "        elif selected_position - 2 >= 0 and positions[selected_position - 2] == '-' and positions[selected_position - 1] == 'G':\n",
        "            pos2 = selected_position - 2\n",
        "        else:\n",
        "            print(\"Invalid move.\")\n",
        "            continue\n",
        "\n",
        "    # Perform the move by swapping positions\n",
        "    positions[selected_position], positions[pos2] = positions[pos2], positions[selected_position]\n",
        "\n",
        "    if check_win(positions):\n",
        "        print_game_board(indices, positions)\n",
        "        print(\"You Win!\")\n",
        "        break"
      ],
      "metadata": {
        "id": "vsPRoAJ5WOwH",
        "outputId": "08889222-81f7-4fd0-8c26-93dbed8065d9",
        "colab": {
          "base_uri": "https://localhost:8080/"
        }
      },
      "execution_count": null,
      "outputs": [
        {
          "output_type": "stream",
          "name": "stdout",
          "text": [
            "Welcome to Frog Leap Puzzle!\n",
            "To win, move all 'G' frogs to the right and all 'B' toads to the left.\n",
            "\n",
            "[0, 1, 2, 3, 4, 5, 6]\n",
            "['G', 'G', 'G', '-', 'B', 'B', 'B']\n",
            "\n",
            "Press 'q' to quit, else Enter position of piece:\n"
          ]
        }
      ]
    },
    {
      "cell_type": "code",
      "source": [],
      "metadata": {
        "id": "gF4rxrVs72tR"
      },
      "execution_count": null,
      "outputs": []
    }
  ]
}